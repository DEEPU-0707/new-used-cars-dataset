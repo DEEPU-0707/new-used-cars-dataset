{
 "cells": [
  {
   "cell_type": "code",
   "execution_count": 12,
   "id": "7930141b",
   "metadata": {},
   "outputs": [],
   "source": [
    "import numpy as np\n",
    "import pandas as pd\n",
    "import matplotlib.pyplot as plt\n",
    "import seaborn as sns"
   ]
  },
  {
   "cell_type": "code",
   "execution_count": 13,
   "id": "3e37e4df",
   "metadata": {},
   "outputs": [
    {
     "data": {
      "text/html": [
       "<div>\n",
       "<style scoped>\n",
       "    .dataframe tbody tr th:only-of-type {\n",
       "        vertical-align: middle;\n",
       "    }\n",
       "\n",
       "    .dataframe tbody tr th {\n",
       "        vertical-align: top;\n",
       "    }\n",
       "\n",
       "    .dataframe thead th {\n",
       "        text-align: right;\n",
       "    }\n",
       "</style>\n",
       "<table border=\"1\" class=\"dataframe\">\n",
       "  <thead>\n",
       "    <tr style=\"text-align: right;\">\n",
       "      <th></th>\n",
       "      <th>Car Names</th>\n",
       "      <th>Mileages</th>\n",
       "      <th>Ratings</th>\n",
       "      <th>Reviews</th>\n",
       "      <th>used/certified</th>\n",
       "      <th>price drop</th>\n",
       "      <th>Price</th>\n",
       "    </tr>\n",
       "  </thead>\n",
       "  <tbody>\n",
       "    <tr>\n",
       "      <th>0</th>\n",
       "      <td>2019 Honda Accord Sport</td>\n",
       "      <td>Mileage</td>\n",
       "      <td>3.7</td>\n",
       "      <td>(3 reviews)</td>\n",
       "      <td>Used</td>\n",
       "      <td>$501 price drop</td>\n",
       "      <td>$27,995</td>\n",
       "    </tr>\n",
       "    <tr>\n",
       "      <th>1</th>\n",
       "      <td>2015 Chevrolet Corvette Stingray Z51</td>\n",
       "      <td>29,192 mi.</td>\n",
       "      <td>3.7</td>\n",
       "      <td>(3 reviews)</td>\n",
       "      <td>Used</td>\n",
       "      <td>$277 price drop</td>\n",
       "      <td>$52,000</td>\n",
       "    </tr>\n",
       "    <tr>\n",
       "      <th>2</th>\n",
       "      <td>2020 Jeep Grand Cherokee Overland</td>\n",
       "      <td>53,561 mi.</td>\n",
       "      <td>4.8</td>\n",
       "      <td>(1,147 reviews)</td>\n",
       "      <td>Used</td>\n",
       "      <td>$2,000 price drop</td>\n",
       "      <td>$41,998</td>\n",
       "    </tr>\n",
       "    <tr>\n",
       "      <th>3</th>\n",
       "      <td>2019 Audi A7 3.0T Prestige</td>\n",
       "      <td>46,664 mi.</td>\n",
       "      <td>4.9</td>\n",
       "      <td>(1,831 reviews)</td>\n",
       "      <td>Used</td>\n",
       "      <td>$2,090 price drop</td>\n",
       "      <td>$62,750</td>\n",
       "    </tr>\n",
       "    <tr>\n",
       "      <th>4</th>\n",
       "      <td>2017 Ford Mustang GT Premium</td>\n",
       "      <td>21,726 mi.</td>\n",
       "      <td>4.0</td>\n",
       "      <td>(409 reviews)</td>\n",
       "      <td>Used</td>\n",
       "      <td>$200 price drop</td>\n",
       "      <td>$29,995</td>\n",
       "    </tr>\n",
       "  </tbody>\n",
       "</table>\n",
       "</div>"
      ],
      "text/plain": [
       "                              Car Names    Mileages  Ratings          Reviews  \\\n",
       "0               2019 Honda Accord Sport     Mileage      3.7      (3 reviews)   \n",
       "1  2015 Chevrolet Corvette Stingray Z51  29,192 mi.      3.7      (3 reviews)   \n",
       "2     2020 Jeep Grand Cherokee Overland  53,561 mi.      4.8  (1,147 reviews)   \n",
       "3            2019 Audi A7 3.0T Prestige  46,664 mi.      4.9  (1,831 reviews)   \n",
       "4          2017 Ford Mustang GT Premium  21,726 mi.      4.0    (409 reviews)   \n",
       "\n",
       "  used/certified         price drop    Price  \n",
       "0           Used    $501 price drop  $27,995  \n",
       "1           Used    $277 price drop  $52,000  \n",
       "2           Used  $2,000 price drop  $41,998  \n",
       "3           Used  $2,090 price drop  $62,750  \n",
       "4           Used    $200 price drop  $29,995  "
      ]
     },
     "execution_count": 13,
     "metadata": {},
     "output_type": "execute_result"
    }
   ],
   "source": [
    "df=pd.read_csv('new-used-cars-dataset.csv')\n",
    "df.head()"
   ]
  },
  {
   "cell_type": "code",
   "execution_count": 14,
   "id": "9b22f924",
   "metadata": {},
   "outputs": [
    {
     "name": "stdout",
     "output_type": "stream",
     "text": [
      "<class 'pandas.core.frame.DataFrame'>\n",
      "RangeIndex: 9330 entries, 0 to 9329\n",
      "Data columns (total 7 columns):\n",
      " #   Column          Non-Null Count  Dtype  \n",
      "---  ------          --------------  -----  \n",
      " 0   Car Names       9330 non-null   object \n",
      " 1   Mileages        9330 non-null   object \n",
      " 2   Ratings         9330 non-null   float64\n",
      " 3   Reviews         9330 non-null   object \n",
      " 4   used/certified  9330 non-null   object \n",
      " 5   price drop      9330 non-null   object \n",
      " 6   Price           9330 non-null   object \n",
      "dtypes: float64(1), object(6)\n",
      "memory usage: 510.4+ KB\n"
     ]
    }
   ],
   "source": [
    "df.info()"
   ]
  },
  {
   "cell_type": "code",
   "execution_count": 16,
   "id": "dd9c9b00",
   "metadata": {},
   "outputs": [
    {
     "data": {
      "text/html": [
       "<div>\n",
       "<style scoped>\n",
       "    .dataframe tbody tr th:only-of-type {\n",
       "        vertical-align: middle;\n",
       "    }\n",
       "\n",
       "    .dataframe tbody tr th {\n",
       "        vertical-align: top;\n",
       "    }\n",
       "\n",
       "    .dataframe thead th {\n",
       "        text-align: right;\n",
       "    }\n",
       "</style>\n",
       "<table border=\"1\" class=\"dataframe\">\n",
       "  <thead>\n",
       "    <tr style=\"text-align: right;\">\n",
       "      <th></th>\n",
       "      <th>Car Names</th>\n",
       "      <th>Mileages</th>\n",
       "      <th>Ratings</th>\n",
       "      <th>used/certified</th>\n",
       "      <th>price drop</th>\n",
       "      <th>Price</th>\n",
       "    </tr>\n",
       "  </thead>\n",
       "  <tbody>\n",
       "    <tr>\n",
       "      <th>0</th>\n",
       "      <td>2019 Honda Accord Sport</td>\n",
       "      <td>Mileage</td>\n",
       "      <td>3.7</td>\n",
       "      <td>Used</td>\n",
       "      <td>$501 price drop</td>\n",
       "      <td>$27,995</td>\n",
       "    </tr>\n",
       "    <tr>\n",
       "      <th>1</th>\n",
       "      <td>2015 Chevrolet Corvette Stingray Z51</td>\n",
       "      <td>29,192 mi.</td>\n",
       "      <td>3.7</td>\n",
       "      <td>Used</td>\n",
       "      <td>$277 price drop</td>\n",
       "      <td>$52,000</td>\n",
       "    </tr>\n",
       "    <tr>\n",
       "      <th>2</th>\n",
       "      <td>2020 Jeep Grand Cherokee Overland</td>\n",
       "      <td>53,561 mi.</td>\n",
       "      <td>4.8</td>\n",
       "      <td>Used</td>\n",
       "      <td>$2,000 price drop</td>\n",
       "      <td>$41,998</td>\n",
       "    </tr>\n",
       "    <tr>\n",
       "      <th>3</th>\n",
       "      <td>2019 Audi A7 3.0T Prestige</td>\n",
       "      <td>46,664 mi.</td>\n",
       "      <td>4.9</td>\n",
       "      <td>Used</td>\n",
       "      <td>$2,090 price drop</td>\n",
       "      <td>$62,750</td>\n",
       "    </tr>\n",
       "    <tr>\n",
       "      <th>4</th>\n",
       "      <td>2017 Ford Mustang GT Premium</td>\n",
       "      <td>21,726 mi.</td>\n",
       "      <td>4.0</td>\n",
       "      <td>Used</td>\n",
       "      <td>$200 price drop</td>\n",
       "      <td>$29,995</td>\n",
       "    </tr>\n",
       "  </tbody>\n",
       "</table>\n",
       "</div>"
      ],
      "text/plain": [
       "                              Car Names    Mileages  Ratings used/certified  \\\n",
       "0               2019 Honda Accord Sport     Mileage      3.7           Used   \n",
       "1  2015 Chevrolet Corvette Stingray Z51  29,192 mi.      3.7           Used   \n",
       "2     2020 Jeep Grand Cherokee Overland  53,561 mi.      4.8           Used   \n",
       "3            2019 Audi A7 3.0T Prestige  46,664 mi.      4.9           Used   \n",
       "4          2017 Ford Mustang GT Premium  21,726 mi.      4.0           Used   \n",
       "\n",
       "          price drop    Price  \n",
       "0    $501 price drop  $27,995  \n",
       "1    $277 price drop  $52,000  \n",
       "2  $2,000 price drop  $41,998  \n",
       "3  $2,090 price drop  $62,750  \n",
       "4    $200 price drop  $29,995  "
      ]
     },
     "execution_count": 16,
     "metadata": {},
     "output_type": "execute_result"
    }
   ],
   "source": [
    "df.drop('Reviews',axis=1,inplace=True)\n",
    "df.head()"
   ]
  },
  {
   "cell_type": "code",
   "execution_count": 15,
   "id": "3a99ca6d",
   "metadata": {},
   "outputs": [
    {
     "data": {
      "text/plain": [
       "Car Names         0\n",
       "Mileages          0\n",
       "Ratings           0\n",
       "Reviews           0\n",
       "used/certified    0\n",
       "price drop        0\n",
       "Price             0\n",
       "dtype: int64"
      ]
     },
     "execution_count": 15,
     "metadata": {},
     "output_type": "execute_result"
    }
   ],
   "source": [
    "df.isnull().sum()"
   ]
  },
  {
   "cell_type": "code",
   "execution_count": 17,
   "id": "e04c5871",
   "metadata": {},
   "outputs": [
    {
     "data": {
      "text/plain": [
       "0"
      ]
     },
     "execution_count": 17,
     "metadata": {},
     "output_type": "execute_result"
    }
   ],
   "source": [
    "df.Ratings.isnull().sum()"
   ]
  },
  {
   "cell_type": "code",
   "execution_count": 18,
   "id": "cc2fcb0a",
   "metadata": {},
   "outputs": [
    {
     "data": {
      "text/plain": [
       "(9330, 6)"
      ]
     },
     "execution_count": 18,
     "metadata": {},
     "output_type": "execute_result"
    }
   ],
   "source": [
    "df.shape"
   ]
  },
  {
   "cell_type": "code",
   "execution_count": 20,
   "id": "4592972a",
   "metadata": {},
   "outputs": [
    {
     "data": {
      "text/plain": [
       "(9330, 6)"
      ]
     },
     "execution_count": 20,
     "metadata": {},
     "output_type": "execute_result"
    }
   ],
   "source": [
    "df1=df[-df.Ratings.isnull()].copy()\n",
    "df1.shape"
   ]
  },
  {
   "cell_type": "code",
   "execution_count": 21,
   "id": "1d2d32cc",
   "metadata": {},
   "outputs": [
    {
     "data": {
      "text/plain": [
       "0"
      ]
     },
     "execution_count": 21,
     "metadata": {},
     "output_type": "execute_result"
    }
   ],
   "source": [
    "df1.Price.isnull().sum()"
   ]
  },
  {
   "cell_type": "code",
   "execution_count": 22,
   "id": "88229182",
   "metadata": {},
   "outputs": [
    {
     "data": {
      "text/plain": [
       "2"
      ]
     },
     "execution_count": 22,
     "metadata": {},
     "output_type": "execute_result"
    }
   ],
   "source": [
    "df1.ndim"
   ]
  },
  {
   "cell_type": "code",
   "execution_count": 23,
   "id": "5899019c",
   "metadata": {},
   "outputs": [
    {
     "name": "stderr",
     "output_type": "stream",
     "text": [
      "C:\\Users\\deepu\\AppData\\Local\\Temp\\ipykernel_11216\\2053335143.py:1: FutureWarning: Dropping of nuisance columns in DataFrame reductions (with 'numeric_only=None') is deprecated; in a future version this will raise TypeError.  Select only valid columns before calling the reduction.\n",
      "  df1.mean()\n"
     ]
    },
    {
     "data": {
      "text/plain": [
       "Ratings    4.488682\n",
       "dtype: float64"
      ]
     },
     "execution_count": 23,
     "metadata": {},
     "output_type": "execute_result"
    }
   ],
   "source": [
    "df1.mean()"
   ]
  },
  {
   "cell_type": "code",
   "execution_count": 24,
   "id": "c39b4fb0",
   "metadata": {},
   "outputs": [
    {
     "name": "stderr",
     "output_type": "stream",
     "text": [
      "C:\\Users\\deepu\\AppData\\Local\\Temp\\ipykernel_11216\\2279417019.py:1: FutureWarning: Dropping of nuisance columns in DataFrame reductions (with 'numeric_only=None') is deprecated; in a future version this will raise TypeError.  Select only valid columns before calling the reduction.\n",
      "  df1.median()\n"
     ]
    },
    {
     "data": {
      "text/plain": [
       "Ratings    4.6\n",
       "dtype: float64"
      ]
     },
     "execution_count": 24,
     "metadata": {},
     "output_type": "execute_result"
    }
   ],
   "source": [
    "df1.median()"
   ]
  },
  {
   "cell_type": "code",
   "execution_count": 25,
   "id": "bb141cae",
   "metadata": {},
   "outputs": [
    {
     "data": {
      "text/html": [
       "<div>\n",
       "<style scoped>\n",
       "    .dataframe tbody tr th:only-of-type {\n",
       "        vertical-align: middle;\n",
       "    }\n",
       "\n",
       "    .dataframe tbody tr th {\n",
       "        vertical-align: top;\n",
       "    }\n",
       "\n",
       "    .dataframe thead th {\n",
       "        text-align: right;\n",
       "    }\n",
       "</style>\n",
       "<table border=\"1\" class=\"dataframe\">\n",
       "  <thead>\n",
       "    <tr style=\"text-align: right;\">\n",
       "      <th></th>\n",
       "      <th>Car Names</th>\n",
       "      <th>Mileages</th>\n",
       "      <th>Ratings</th>\n",
       "      <th>used/certified</th>\n",
       "      <th>price drop</th>\n",
       "      <th>Price</th>\n",
       "    </tr>\n",
       "  </thead>\n",
       "  <tbody>\n",
       "    <tr>\n",
       "      <th>0</th>\n",
       "      <td>2019 Jeep Grand Cherokee Limited</td>\n",
       "      <td>Mileage</td>\n",
       "      <td>4.7</td>\n",
       "      <td>Used</td>\n",
       "      <td>$500 price drop</td>\n",
       "      <td>$26,995</td>\n",
       "    </tr>\n",
       "  </tbody>\n",
       "</table>\n",
       "</div>"
      ],
      "text/plain": [
       "                          Car Names Mileages  Ratings used/certified  \\\n",
       "0  2019 Jeep Grand Cherokee Limited  Mileage      4.7           Used   \n",
       "\n",
       "        price drop    Price  \n",
       "0  $500 price drop  $26,995  "
      ]
     },
     "execution_count": 25,
     "metadata": {},
     "output_type": "execute_result"
    }
   ],
   "source": [
    "df1.mode()"
   ]
  },
  {
   "cell_type": "code",
   "execution_count": 26,
   "id": "b5e761b5",
   "metadata": {},
   "outputs": [
    {
     "name": "stderr",
     "output_type": "stream",
     "text": [
      "C:\\Users\\deepu\\AppData\\Local\\Temp\\ipykernel_11216\\3039516898.py:1: FutureWarning: Dropping of nuisance columns in DataFrame reductions (with 'numeric_only=None') is deprecated; in a future version this will raise TypeError.  Select only valid columns before calling the reduction.\n",
      "  df1.std()\n"
     ]
    },
    {
     "data": {
      "text/plain": [
       "Ratings    0.485635\n",
       "dtype: float64"
      ]
     },
     "execution_count": 26,
     "metadata": {},
     "output_type": "execute_result"
    }
   ],
   "source": [
    "df1.std()"
   ]
  },
  {
   "cell_type": "code",
   "execution_count": 27,
   "id": "f1dba13b",
   "metadata": {},
   "outputs": [
    {
     "name": "stderr",
     "output_type": "stream",
     "text": [
      "C:\\Users\\deepu\\AppData\\Local\\Temp\\ipykernel_11216\\2870725145.py:1: FutureWarning: Dropping of nuisance columns in DataFrame reductions (with 'numeric_only=None') is deprecated; in a future version this will raise TypeError.  Select only valid columns before calling the reduction.\n",
      "  df1.var()\n"
     ]
    },
    {
     "data": {
      "text/plain": [
       "Ratings    0.235841\n",
       "dtype: float64"
      ]
     },
     "execution_count": 27,
     "metadata": {},
     "output_type": "execute_result"
    }
   ],
   "source": [
    "df1.var()"
   ]
  },
  {
   "cell_type": "code",
   "execution_count": 29,
   "id": "3758771c",
   "metadata": {},
   "outputs": [
    {
     "data": {
      "text/html": [
       "<div>\n",
       "<style scoped>\n",
       "    .dataframe tbody tr th:only-of-type {\n",
       "        vertical-align: middle;\n",
       "    }\n",
       "\n",
       "    .dataframe tbody tr th {\n",
       "        vertical-align: top;\n",
       "    }\n",
       "\n",
       "    .dataframe thead th {\n",
       "        text-align: right;\n",
       "    }\n",
       "</style>\n",
       "<table border=\"1\" class=\"dataframe\">\n",
       "  <thead>\n",
       "    <tr style=\"text-align: right;\">\n",
       "      <th></th>\n",
       "      <th>Ratings</th>\n",
       "    </tr>\n",
       "  </thead>\n",
       "  <tbody>\n",
       "    <tr>\n",
       "      <th>Ratings</th>\n",
       "      <td>1.0</td>\n",
       "    </tr>\n",
       "  </tbody>\n",
       "</table>\n",
       "</div>"
      ],
      "text/plain": [
       "         Ratings\n",
       "Ratings      1.0"
      ]
     },
     "execution_count": 29,
     "metadata": {},
     "output_type": "execute_result"
    }
   ],
   "source": [
    "corr=df1.corr()\n",
    "corr"
   ]
  },
  {
   "cell_type": "code",
   "execution_count": 33,
   "id": "7225258d",
   "metadata": {},
   "outputs": [
    {
     "name": "stderr",
     "output_type": "stream",
     "text": [
      "C:\\Users\\deepu\\AppData\\Local\\Temp\\ipykernel_11216\\149261804.py:1: FutureWarning: Dropping of nuisance columns in DataFrame reductions (with 'numeric_only=None') is deprecated; in a future version this will raise TypeError.  Select only valid columns before calling the reduction.\n",
      "  df1.skew()\n"
     ]
    },
    {
     "data": {
      "text/plain": [
       "Ratings   -2.225745\n",
       "dtype: float64"
      ]
     },
     "execution_count": 33,
     "metadata": {},
     "output_type": "execute_result"
    }
   ],
   "source": [
    "df1.skew()"
   ]
  },
  {
   "cell_type": "code",
   "execution_count": 34,
   "id": "35f0a4d0",
   "metadata": {},
   "outputs": [
    {
     "data": {
      "text/html": [
       "<div>\n",
       "<style scoped>\n",
       "    .dataframe tbody tr th:only-of-type {\n",
       "        vertical-align: middle;\n",
       "    }\n",
       "\n",
       "    .dataframe tbody tr th {\n",
       "        vertical-align: top;\n",
       "    }\n",
       "\n",
       "    .dataframe thead th {\n",
       "        text-align: right;\n",
       "    }\n",
       "</style>\n",
       "<table border=\"1\" class=\"dataframe\">\n",
       "  <thead>\n",
       "    <tr style=\"text-align: right;\">\n",
       "      <th></th>\n",
       "      <th>Ratings</th>\n",
       "    </tr>\n",
       "  </thead>\n",
       "  <tbody>\n",
       "    <tr>\n",
       "      <th>count</th>\n",
       "      <td>9330.000000</td>\n",
       "    </tr>\n",
       "    <tr>\n",
       "      <th>mean</th>\n",
       "      <td>4.488682</td>\n",
       "    </tr>\n",
       "    <tr>\n",
       "      <th>std</th>\n",
       "      <td>0.485635</td>\n",
       "    </tr>\n",
       "    <tr>\n",
       "      <th>min</th>\n",
       "      <td>1.400000</td>\n",
       "    </tr>\n",
       "    <tr>\n",
       "      <th>25%</th>\n",
       "      <td>4.400000</td>\n",
       "    </tr>\n",
       "    <tr>\n",
       "      <th>50%</th>\n",
       "      <td>4.600000</td>\n",
       "    </tr>\n",
       "    <tr>\n",
       "      <th>75%</th>\n",
       "      <td>4.800000</td>\n",
       "    </tr>\n",
       "    <tr>\n",
       "      <th>max</th>\n",
       "      <td>5.000000</td>\n",
       "    </tr>\n",
       "  </tbody>\n",
       "</table>\n",
       "</div>"
      ],
      "text/plain": [
       "           Ratings\n",
       "count  9330.000000\n",
       "mean      4.488682\n",
       "std       0.485635\n",
       "min       1.400000\n",
       "25%       4.400000\n",
       "50%       4.600000\n",
       "75%       4.800000\n",
       "max       5.000000"
      ]
     },
     "execution_count": 34,
     "metadata": {},
     "output_type": "execute_result"
    }
   ],
   "source": [
    "df1.describe()"
   ]
  },
  {
   "cell_type": "code",
   "execution_count": 35,
   "id": "ccbee266",
   "metadata": {},
   "outputs": [
    {
     "data": {
      "text/html": [
       "<div>\n",
       "<style scoped>\n",
       "    .dataframe tbody tr th:only-of-type {\n",
       "        vertical-align: middle;\n",
       "    }\n",
       "\n",
       "    .dataframe tbody tr th {\n",
       "        vertical-align: top;\n",
       "    }\n",
       "\n",
       "    .dataframe thead th {\n",
       "        text-align: right;\n",
       "    }\n",
       "</style>\n",
       "<table border=\"1\" class=\"dataframe\">\n",
       "  <thead>\n",
       "    <tr style=\"text-align: right;\">\n",
       "      <th></th>\n",
       "      <th>count</th>\n",
       "      <th>mean</th>\n",
       "      <th>std</th>\n",
       "      <th>min</th>\n",
       "      <th>25%</th>\n",
       "      <th>50%</th>\n",
       "      <th>75%</th>\n",
       "      <th>max</th>\n",
       "    </tr>\n",
       "  </thead>\n",
       "  <tbody>\n",
       "    <tr>\n",
       "      <th>Ratings</th>\n",
       "      <td>9330.0</td>\n",
       "      <td>4.488682</td>\n",
       "      <td>0.485635</td>\n",
       "      <td>1.4</td>\n",
       "      <td>4.4</td>\n",
       "      <td>4.6</td>\n",
       "      <td>4.8</td>\n",
       "      <td>5.0</td>\n",
       "    </tr>\n",
       "  </tbody>\n",
       "</table>\n",
       "</div>"
      ],
      "text/plain": [
       "          count      mean       std  min  25%  50%  75%  max\n",
       "Ratings  9330.0  4.488682  0.485635  1.4  4.4  4.6  4.8  5.0"
      ]
     },
     "execution_count": 35,
     "metadata": {},
     "output_type": "execute_result"
    }
   ],
   "source": [
    "df1.describe().T"
   ]
  },
  {
   "cell_type": "code",
   "execution_count": 36,
   "id": "b1c404f7",
   "metadata": {},
   "outputs": [
    {
     "data": {
      "text/plain": [
       "0       False\n",
       "1       False\n",
       "2       False\n",
       "3       False\n",
       "4       False\n",
       "        ...  \n",
       "9325     True\n",
       "9326     True\n",
       "9327     True\n",
       "9328     True\n",
       "9329     True\n",
       "Length: 9330, dtype: bool"
      ]
     },
     "execution_count": 36,
     "metadata": {},
     "output_type": "execute_result"
    }
   ],
   "source": [
    "df1.duplicated()"
   ]
  },
  {
   "cell_type": "code",
   "execution_count": 37,
   "id": "acdfc031",
   "metadata": {},
   "outputs": [
    {
     "data": {
      "text/html": [
       "<div>\n",
       "<style scoped>\n",
       "    .dataframe tbody tr th:only-of-type {\n",
       "        vertical-align: middle;\n",
       "    }\n",
       "\n",
       "    .dataframe tbody tr th {\n",
       "        vertical-align: top;\n",
       "    }\n",
       "\n",
       "    .dataframe thead th {\n",
       "        text-align: right;\n",
       "    }\n",
       "</style>\n",
       "<table border=\"1\" class=\"dataframe\">\n",
       "  <thead>\n",
       "    <tr style=\"text-align: right;\">\n",
       "      <th></th>\n",
       "      <th>Car Names</th>\n",
       "      <th>Mileages</th>\n",
       "      <th>Ratings</th>\n",
       "      <th>used/certified</th>\n",
       "      <th>price drop</th>\n",
       "      <th>Price</th>\n",
       "    </tr>\n",
       "  </thead>\n",
       "  <tbody>\n",
       "    <tr>\n",
       "      <th>0</th>\n",
       "      <td>2019 Honda Accord Sport</td>\n",
       "      <td>Mileage</td>\n",
       "      <td>3.7</td>\n",
       "      <td>Used</td>\n",
       "      <td>$501 price drop</td>\n",
       "      <td>$27,995</td>\n",
       "    </tr>\n",
       "    <tr>\n",
       "      <th>1</th>\n",
       "      <td>2015 Chevrolet Corvette Stingray Z51</td>\n",
       "      <td>29,192 mi.</td>\n",
       "      <td>3.7</td>\n",
       "      <td>Used</td>\n",
       "      <td>$277 price drop</td>\n",
       "      <td>$52,000</td>\n",
       "    </tr>\n",
       "    <tr>\n",
       "      <th>2</th>\n",
       "      <td>2020 Jeep Grand Cherokee Overland</td>\n",
       "      <td>53,561 mi.</td>\n",
       "      <td>4.8</td>\n",
       "      <td>Used</td>\n",
       "      <td>$2,000 price drop</td>\n",
       "      <td>$41,998</td>\n",
       "    </tr>\n",
       "    <tr>\n",
       "      <th>3</th>\n",
       "      <td>2019 Audi A7 3.0T Prestige</td>\n",
       "      <td>46,664 mi.</td>\n",
       "      <td>4.9</td>\n",
       "      <td>Used</td>\n",
       "      <td>$2,090 price drop</td>\n",
       "      <td>$62,750</td>\n",
       "    </tr>\n",
       "    <tr>\n",
       "      <th>4</th>\n",
       "      <td>2017 Ford Mustang GT Premium</td>\n",
       "      <td>21,726 mi.</td>\n",
       "      <td>4.0</td>\n",
       "      <td>Used</td>\n",
       "      <td>$200 price drop</td>\n",
       "      <td>$29,995</td>\n",
       "    </tr>\n",
       "    <tr>\n",
       "      <th>...</th>\n",
       "      <td>...</td>\n",
       "      <td>...</td>\n",
       "      <td>...</td>\n",
       "      <td>...</td>\n",
       "      <td>...</td>\n",
       "      <td>...</td>\n",
       "    </tr>\n",
       "    <tr>\n",
       "      <th>4375</th>\n",
       "      <td>2019 Lexus IS 300 Base</td>\n",
       "      <td>61,106 mi.</td>\n",
       "      <td>4.7</td>\n",
       "      <td>Used</td>\n",
       "      <td>$2,770 price drop</td>\n",
       "      <td>$36,500</td>\n",
       "    </tr>\n",
       "    <tr>\n",
       "      <th>4376</th>\n",
       "      <td>2019 Kia Sorento L</td>\n",
       "      <td>11,132 mi.</td>\n",
       "      <td>4.8</td>\n",
       "      <td>Used</td>\n",
       "      <td>$200 price drop</td>\n",
       "      <td>$23,450</td>\n",
       "    </tr>\n",
       "    <tr>\n",
       "      <th>4377</th>\n",
       "      <td>2017 GMC Acadia Denali</td>\n",
       "      <td>55,074 mi.</td>\n",
       "      <td>3.4</td>\n",
       "      <td>Used</td>\n",
       "      <td>$2,065 price drop</td>\n",
       "      <td>$29,381</td>\n",
       "    </tr>\n",
       "    <tr>\n",
       "      <th>4378</th>\n",
       "      <td>2019 Honda Pilot Elite</td>\n",
       "      <td>57,150 mi.</td>\n",
       "      <td>4.9</td>\n",
       "      <td>Honda Certified</td>\n",
       "      <td>$2,007 price drop</td>\n",
       "      <td>$38,488</td>\n",
       "    </tr>\n",
       "    <tr>\n",
       "      <th>4379</th>\n",
       "      <td>2019 GMC Terrain SLT</td>\n",
       "      <td>56,293 mi.</td>\n",
       "      <td>4.8</td>\n",
       "      <td>Used</td>\n",
       "      <td>$561 price drop</td>\n",
       "      <td>$27,812</td>\n",
       "    </tr>\n",
       "  </tbody>\n",
       "</table>\n",
       "<p>4380 rows × 6 columns</p>\n",
       "</div>"
      ],
      "text/plain": [
       "                                 Car Names    Mileages  Ratings  \\\n",
       "0                  2019 Honda Accord Sport     Mileage      3.7   \n",
       "1     2015 Chevrolet Corvette Stingray Z51  29,192 mi.      3.7   \n",
       "2        2020 Jeep Grand Cherokee Overland  53,561 mi.      4.8   \n",
       "3               2019 Audi A7 3.0T Prestige  46,664 mi.      4.9   \n",
       "4             2017 Ford Mustang GT Premium  21,726 mi.      4.0   \n",
       "...                                    ...         ...      ...   \n",
       "4375                2019 Lexus IS 300 Base  61,106 mi.      4.7   \n",
       "4376                    2019 Kia Sorento L  11,132 mi.      4.8   \n",
       "4377                2017 GMC Acadia Denali  55,074 mi.      3.4   \n",
       "4378                2019 Honda Pilot Elite  57,150 mi.      4.9   \n",
       "4379                  2019 GMC Terrain SLT  56,293 mi.      4.8   \n",
       "\n",
       "       used/certified         price drop    Price  \n",
       "0                Used    $501 price drop  $27,995  \n",
       "1                Used    $277 price drop  $52,000  \n",
       "2                Used  $2,000 price drop  $41,998  \n",
       "3                Used  $2,090 price drop  $62,750  \n",
       "4                Used    $200 price drop  $29,995  \n",
       "...               ...                ...      ...  \n",
       "4375             Used  $2,770 price drop  $36,500  \n",
       "4376             Used    $200 price drop  $23,450  \n",
       "4377             Used  $2,065 price drop  $29,381  \n",
       "4378  Honda Certified  $2,007 price drop  $38,488  \n",
       "4379             Used    $561 price drop  $27,812  \n",
       "\n",
       "[4380 rows x 6 columns]"
      ]
     },
     "execution_count": 37,
     "metadata": {},
     "output_type": "execute_result"
    }
   ],
   "source": [
    "df1.drop_duplicates()"
   ]
  },
  {
   "cell_type": "code",
   "execution_count": 39,
   "id": "03d8afc9",
   "metadata": {},
   "outputs": [
    {
     "data": {
      "text/plain": [
       "count    9330.000000\n",
       "mean        4.488682\n",
       "std         0.485635\n",
       "min         1.400000\n",
       "25%         4.400000\n",
       "50%         4.600000\n",
       "75%         4.800000\n",
       "max         5.000000\n",
       "Name: Ratings, dtype: float64"
      ]
     },
     "execution_count": 39,
     "metadata": {},
     "output_type": "execute_result"
    }
   ],
   "source": [
    "df1.Ratings.describe()"
   ]
  },
  {
   "cell_type": "code",
   "execution_count": 40,
   "id": "ced441d5",
   "metadata": {},
   "outputs": [
    {
     "data": {
      "text/plain": [
       "count    9330.000000\n",
       "mean        4.488682\n",
       "std         0.485635\n",
       "min         1.400000\n",
       "25%         4.400000\n",
       "50%         4.600000\n",
       "75%         4.800000\n",
       "max         5.000000\n",
       "Name: Ratings, dtype: float64"
      ]
     },
     "execution_count": 40,
     "metadata": {},
     "output_type": "execute_result"
    }
   ],
   "source": [
    "df1.loc[df1.Ratings<0,'Ratings']=np.NaN\n",
    "df1.Ratings.describe()"
   ]
  },
  {
   "cell_type": "code",
   "execution_count": 41,
   "id": "8d7f2f78",
   "metadata": {},
   "outputs": [
    {
     "data": {
      "image/png": "[encoded data removed]",
      "text/plain": [
       "<Figure size 432x288 with 1 Axes>"
      ]
     },
     "metadata": {
      "needs_background": "light"
     },
     "output_type": "display_data"
    }
   ],
   "source": [
    "df1.Ratings.plot.hist()\n",
    "plt.show()"
   ]
  },
  {
   "cell_type": "code",
   "execution_count": 42,
   "id": "82953c4b",
   "metadata": {
    "scrolled": true
   },
   "outputs": [
    {
     "name": "stderr",
     "output_type": "stream",
     "text": [
      "C:\\Users\\deepu\\anaconda3\\lib\\site-packages\\seaborn\\_decorators.py:36: FutureWarning: Pass the following variable as a keyword arg: x. From version 0.12, the only valid positional argument will be `data`, and passing other arguments without an explicit keyword will result in an error or misinterpretation.\n",
      "  warnings.warn(\n"
     ]
    },
    {
     "data": {
      "image/png": "[encoded data removed]",
      "text/plain": [
       "<Figure size 432x288 with 1 Axes>"
      ]
     },
     "metadata": {
      "needs_background": "light"
     },
     "output_type": "display_data"
    }
   ],
   "source": [
    "sns.boxplot(df1.Ratings)\n",
    "plt.show()"
   ]
  },
  {
   "cell_type": "code",
   "execution_count": 43,
   "id": "6dbb39b4",
   "metadata": {},
   "outputs": [
    {
     "data": {
      "text/plain": [
       "count        9330\n",
       "unique       2989\n",
       "top       $26,995\n",
       "freq          107\n",
       "Name: Price, dtype: object"
      ]
     },
     "execution_count": 43,
     "metadata": {},
     "output_type": "execute_result"
    }
   ],
   "source": [
    "df1.Price.describe()"
   ]
  },
  {
   "cell_type": "code",
   "execution_count": null,
   "id": "304a5502",
   "metadata": {},
   "outputs": [],
   "source": []
  }
 ],
 "metadata": {
  "kernelspec": {
   "display_name": "Python 3 (ipykernel)",
   "language": "python",
   "name": "python3"
  },
  "language_info": {
   "codemirror_mode": {
    "name": "ipython",
    "version": 3
   },
   "file_extension": ".py",
   "mimetype": "text/x-python",
   "name": "python",
   "nbconvert_exporter": "python",
   "pygments_lexer": "ipython3",
   "version": "3.9.12"
  }
 },
 "nbformat": 4,
 "nbformat_minor": 5
}
